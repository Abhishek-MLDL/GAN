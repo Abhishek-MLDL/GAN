{
 "cells": [
  {
   "cell_type": "markdown",
   "metadata": {},
   "source": [
    "# Autoencoder for Noise Reduction\n",
    "\n",
    "The idea of encoding is to reduce the dimensions of input data so that the information is compressed.  The idea of decoding is to restore the original information from the compressed data.  \n",
    "\n",
    "The autoencoder learns to encode and decode automatically (hence, the name).  As such, it is data specific and will not work on completely unseen data structure.  For example, an autoencoder trained on numbers does not work on alphabets.  Another limitation is that the compression is lossy.  It does not perfectly restore the original information.  It is, however, quite useful for noise reduction which we will see later in this notebook.\n",
    "\n",
    "The code in this notebook is based on **Building Autoencoders in Keras by Francois Chollet** [[1]](#ref1) and **Autoencoder Examples by Udacity** [[2]](#ref2)."
   ]
  },
  {
   "cell_type": "markdown",
   "metadata": {},
   "source": [
    "## MNIST\n",
    "\n",
    "MNIST is a well known database of handwritten digits [[3]](#ref3)."
   ]
  },
  {
   "cell_type": "code",
   "execution_count": 1,
   "metadata": {},
   "outputs": [
    {
     "name": "stderr",
     "output_type": "stream",
     "text": [
      "Using TensorFlow backend.\n"
     ]
    }
   ],
   "source": [
    "import numpy as np\n",
    "import keras\n",
    "from keras.layers import Input, Dense, Conv2D, MaxPooling2D, UpSampling2D\n",
    "from keras.models import Model\n",
    "from sklearn.model_selection import train_test_split\n",
    "import matplotlib.pyplot as plt\n",
    "%matplotlib inline"
   ]
  },
  {
   "cell_type": "markdown",
   "metadata": {},
   "source": [
    "The below will download MNIST dataset (if not already).  We ignore the labels."
   ]
  },
  {
   "cell_type": "code",
   "execution_count": 2,
   "metadata": {},
   "outputs": [],
   "source": [
    "(X_train, _), (X_test, _) = keras.datasets.mnist.load_data()"
   ]
  },
  {
   "cell_type": "markdown",
   "metadata": {},
   "source": [
    "The images in MNIST all have the same shape.  It has no color information."
   ]
  },
  {
   "cell_type": "code",
   "execution_count": 3,
   "metadata": {},
   "outputs": [
    {
     "data": {
      "text/plain": [
       "(28, 28)"
      ]
     },
     "execution_count": 3,
     "metadata": {},
     "output_type": "execute_result"
    }
   ],
   "source": [
    "X_train[0].shape"
   ]
  },
  {
   "cell_type": "markdown",
   "metadata": {},
   "source": [
    "Let's examine sample images.  We use 'gray' color map since it has no color information."
   ]
  },
  {
   "cell_type": "code",
   "execution_count": 4,
   "metadata": {},
   "outputs": [
    {
     "data": {
      "image/png": "[encoded data removed]",
      "text/plain": [
       "<matplotlib.figure.Figure at 0x7f953bcd1e48>"
      ]
     },
     "metadata": {},
     "output_type": "display_data"
    }
   ],
   "source": [
    "plt.figure(figsize=(10, 5))\n",
    "for i in range(10):\n",
    "    plt.subplot(1, 10, i+1)\n",
    "    plt.imshow(X_train[i], cmap='gray')\n",
    "    plt.xticks([])\n",
    "    plt.yticks([])\n",
    "plt.show()"
   ]
  },
  {
   "cell_type": "markdown",
   "metadata": {},
   "source": [
    "## Simple Autoencoder\n",
    "\n",
    "To introduce the idea of autoencoders, we start with a simple implementation based on a fully connected layers.  One hidden layer handles the encoding, and the output layer handles the decoding.\n",
    "\n",
    "Each of the input images is flatten to an array of 784 ($=28 \\times 28$) data points.  This is then compressed into 32 data points by the fully connected layer."
   ]
  },
  {
   "cell_type": "code",
   "execution_count": 5,
   "metadata": {
    "collapsed": true
   },
   "outputs": [],
   "source": [
    "inputs  = Input(shape=(784,))              # 28*28 flatten\n",
    "enc_fc  = Dense( 32, activation='relu')    # compress using 32 neurons\n",
    "encoded = enc_fc(inputs)"
   ]
  },
  {
   "cell_type": "markdown",
   "metadata": {},
   "source": [
    "Then, we decode the encoded data to the original 784 data points.  The sigmoid will return values between 0 and 1."
   ]
  },
  {
   "cell_type": "code",
   "execution_count": 6,
   "metadata": {
    "collapsed": true
   },
   "outputs": [],
   "source": [
    "dec_fc  = Dense(784, activation='sigmoid') # decompress to 784 pixels\n",
    "decoded = dec_fc(encoded) "
   ]
  },
  {
   "cell_type": "markdown",
   "metadata": {},
   "source": [
    "This whole processing becomes the trainable autoencoder model.  It is compressing and decompressing.  So, what's the point?  We talk about that later on."
   ]
  },
  {
   "cell_type": "code",
   "execution_count": 7,
   "metadata": {
    "collapsed": true
   },
   "outputs": [],
   "source": [
    "# build the model to train\n",
    "autoencoder = Model(inputs, decoded)\n",
    "autoencoder.compile(optimizer='adam', loss='binary_crossentropy')"
   ]
  },
  {
   "cell_type": "markdown",
   "metadata": {},
   "source": [
    "Let's preprocess the MNIST image data so that image data are normalized between 0 and 1."
   ]
  },
  {
   "cell_type": "code",
   "execution_count": 8,
   "metadata": {
    "collapsed": true
   },
   "outputs": [],
   "source": [
    "def preprocess(x):\n",
    "    x = x.astype('float32') / 255.\n",
    "    return x.reshape(-1, np.prod(x.shape[1:])) # flatten\n",
    "\n",
    "X_train = preprocess(X_train)\n",
    "X_test  = preprocess(X_test)\n",
    "\n",
    "# also create a validation set for training\n",
    "X_train, X_valid = train_test_split(X_train, test_size=500)"
   ]
  },
  {
   "cell_type": "markdown",
   "metadata": {},
   "source": [
    "Now, we train the autoencoder which compress the input image and then restore to the original size.  As such, our training data and label data are both the same image data."
   ]
  },
  {
   "cell_type": "code",
   "execution_count": 9,
   "metadata": {},
   "outputs": [
    {
     "name": "stdout",
     "output_type": "stream",
     "text": [
      "Train on 59500 samples, validate on 500 samples\n",
      "Epoch 1/50\n",
      "59500/59500 [==============================] - 1s - loss: 0.2255 - val_loss: 0.1586\n",
      "Epoch 2/50\n",
      "59500/59500 [==============================] - 1s - loss: 0.1415 - val_loss: 0.1277\n",
      "Epoch 3/50\n",
      "59500/59500 [==============================] - 1s - loss: 0.1190 - val_loss: 0.1122\n",
      "Epoch 4/50\n",
      "59500/59500 [==============================] - 0s - loss: 0.1072 - val_loss: 0.1037\n",
      "Epoch 5/50\n",
      "59500/59500 [==============================] - 0s - loss: 0.1007 - val_loss: 0.0993\n",
      "Epoch 6/50\n",
      "59500/59500 [==============================] - 0s - loss: 0.0974 - val_loss: 0.0972\n",
      "Epoch 7/50\n",
      "59500/59500 [==============================] - 0s - loss: 0.0957 - val_loss: 0.0959\n",
      "Epoch 8/50\n",
      "59500/59500 [==============================] - 0s - loss: 0.0949 - val_loss: 0.0953\n",
      "Epoch 9/50\n",
      "59500/59500 [==============================] - 0s - loss: 0.0944 - val_loss: 0.0949\n",
      "Epoch 10/50\n",
      "59500/59500 [==============================] - 0s - loss: 0.0941 - val_loss: 0.0946\n",
      "Epoch 11/50\n",
      "59500/59500 [==============================] - 0s - loss: 0.0939 - val_loss: 0.0946\n",
      "Epoch 12/50\n",
      "59500/59500 [==============================] - 0s - loss: 0.0937 - val_loss: 0.0944\n",
      "Epoch 13/50\n",
      "59500/59500 [==============================] - 1s - loss: 0.0936 - val_loss: 0.0942\n",
      "Epoch 14/50\n",
      "59500/59500 [==============================] - 1s - loss: 0.0935 - val_loss: 0.0942\n",
      "Epoch 15/50\n",
      "59500/59500 [==============================] - 1s - loss: 0.0934 - val_loss: 0.0941\n",
      "Epoch 16/50\n",
      "59500/59500 [==============================] - 1s - loss: 0.0933 - val_loss: 0.0943\n",
      "Epoch 17/50\n",
      "59500/59500 [==============================] - 0s - loss: 0.0933 - val_loss: 0.0940\n",
      "Epoch 18/50\n",
      "59500/59500 [==============================] - 0s - loss: 0.0932 - val_loss: 0.0940\n",
      "Epoch 19/50\n",
      "59500/59500 [==============================] - 0s - loss: 0.0932 - val_loss: 0.0941\n",
      "Epoch 20/50\n",
      "59500/59500 [==============================] - 0s - loss: 0.0931 - val_loss: 0.0941\n",
      "Epoch 21/50\n",
      "59500/59500 [==============================] - 0s - loss: 0.0931 - val_loss: 0.0940\n",
      "Epoch 22/50\n",
      "59500/59500 [==============================] - 0s - loss: 0.0931 - val_loss: 0.0941\n",
      "Epoch 23/50\n",
      "59500/59500 [==============================] - 0s - loss: 0.0930 - val_loss: 0.0940\n",
      "Epoch 24/50\n",
      "59500/59500 [==============================] - 0s - loss: 0.0930 - val_loss: 0.0940\n",
      "Epoch 25/50\n",
      "59500/59500 [==============================] - 0s - loss: 0.0930 - val_loss: 0.0940\n",
      "Epoch 26/50\n",
      "59500/59500 [==============================] - 1s - loss: 0.0929 - val_loss: 0.0939\n",
      "Epoch 27/50\n",
      "59500/59500 [==============================] - 1s - loss: 0.0929 - val_loss: 0.0941\n",
      "Epoch 28/50\n",
      "59500/59500 [==============================] - 1s - loss: 0.0929 - val_loss: 0.0939\n",
      "Epoch 29/50\n",
      "59500/59500 [==============================] - 1s - loss: 0.0929 - val_loss: 0.0939\n",
      "Epoch 30/50\n",
      "59500/59500 [==============================] - 0s - loss: 0.0929 - val_loss: 0.0939\n",
      "Epoch 31/50\n",
      "59500/59500 [==============================] - 0s - loss: 0.0929 - val_loss: 0.0939\n",
      "Epoch 32/50\n",
      "59500/59500 [==============================] - 0s - loss: 0.0929 - val_loss: 0.0939\n",
      "Epoch 33/50\n",
      "59500/59500 [==============================] - 0s - loss: 0.0928 - val_loss: 0.0939\n",
      "Epoch 34/50\n",
      "59500/59500 [==============================] - 0s - loss: 0.0928 - val_loss: 0.0939\n",
      "Epoch 35/50\n",
      "59500/59500 [==============================] - 0s - loss: 0.0928 - val_loss: 0.0940\n",
      "Epoch 36/50\n",
      "59500/59500 [==============================] - 0s - loss: 0.0928 - val_loss: 0.0939\n",
      "Epoch 37/50\n",
      "59500/59500 [==============================] - 0s - loss: 0.0928 - val_loss: 0.0939\n",
      "Epoch 38/50\n",
      "59500/59500 [==============================] - 0s - loss: 0.0928 - val_loss: 0.0938\n",
      "Epoch 39/50\n",
      "59500/59500 [==============================] - 1s - loss: 0.0928 - val_loss: 0.0939\n",
      "Epoch 40/50\n",
      "59500/59500 [==============================] - 1s - loss: 0.0927 - val_loss: 0.0938\n",
      "Epoch 41/50\n",
      "59500/59500 [==============================] - 1s - loss: 0.0927 - val_loss: 0.0939\n",
      "Epoch 42/50\n",
      "59500/59500 [==============================] - 1s - loss: 0.0927 - val_loss: 0.0938\n",
      "Epoch 43/50\n",
      "59500/59500 [==============================] - 0s - loss: 0.0927 - val_loss: 0.0937\n",
      "Epoch 44/50\n",
      "59500/59500 [==============================] - 0s - loss: 0.0927 - val_loss: 0.0939\n",
      "Epoch 45/50\n",
      "59500/59500 [==============================] - 0s - loss: 0.0927 - val_loss: 0.0938\n",
      "Epoch 46/50\n",
      "59500/59500 [==============================] - 0s - loss: 0.0927 - val_loss: 0.0937\n",
      "Epoch 47/50\n",
      "59500/59500 [==============================] - 0s - loss: 0.0927 - val_loss: 0.0938\n",
      "Epoch 48/50\n",
      "59500/59500 [==============================] - 0s - loss: 0.0926 - val_loss: 0.0938\n",
      "Epoch 49/50\n",
      "59500/59500 [==============================] - 0s - loss: 0.0926 - val_loss: 0.0938\n",
      "Epoch 50/50\n",
      "59500/59500 [==============================] - 0s - loss: 0.0926 - val_loss: 0.0939\n"
     ]
    },
    {
     "data": {
      "text/plain": [
       "<keras.callbacks.History at 0x7f95398b1b00>"
      ]
     },
     "execution_count": 9,
     "metadata": {},
     "output_type": "execute_result"
    }
   ],
   "source": [
    "autoencoder.fit(X_train, X_train, epochs=50, batch_size=128, validation_data=(X_valid, X_valid))"
   ]
  },
  {
   "cell_type": "markdown",
   "metadata": {},
   "source": [
    "Once the autoencoder is trained, we can use the encoding part to encode MNIST digit images.  By training an autoencoder, we are really training both the encoder and the decoder at the same time which is why the above training is done."
   ]
  },
  {
   "cell_type": "code",
   "execution_count": 10,
   "metadata": {},
   "outputs": [],
   "source": [
    "encoder = Model(inputs, encoded)"
   ]
  },
  {
   "cell_type": "markdown",
   "metadata": {},
   "source": [
    "Now, we can compress MNIST images."
   ]
  },
  {
   "cell_type": "code",
   "execution_count": 11,
   "metadata": {
    "collapsed": true
   },
   "outputs": [],
   "source": [
    "X_test_encoded = encoder.predict(X_test)"
   ]
  },
  {
   "cell_type": "markdown",
   "metadata": {},
   "source": [
    "We can confirm the 784 pixels are now compressed into 32 data points."
   ]
  },
  {
   "cell_type": "code",
   "execution_count": 12,
   "metadata": {},
   "outputs": [
    {
     "data": {
      "text/plain": [
       "(32,)"
      ]
     },
     "execution_count": 12,
     "metadata": {},
     "output_type": "execute_result"
    }
   ],
   "source": [
    "X_test_encoded[0].shape"
   ]
  },
  {
   "cell_type": "markdown",
   "metadata": {},
   "source": [
    "Let's also build the decoder so that we can decode the encoded information into the original image size.  For the decoder, the input shape takes 32 data points as that is the size of encoded data."
   ]
  },
  {
   "cell_type": "code",
   "execution_count": 13,
   "metadata": {},
   "outputs": [],
   "source": [
    "decoder_inputs = Input(shape=(32,))\n",
    "decoder = Model(decoder_inputs, dec_fc(decoder_inputs))"
   ]
  },
  {
   "cell_type": "markdown",
   "metadata": {},
   "source": [
    "Let's decompress the compressed MNIST images."
   ]
  },
  {
   "cell_type": "code",
   "execution_count": 14,
   "metadata": {
    "collapsed": true
   },
   "outputs": [],
   "source": [
    "X_test_decoded = decoder.predict(X_test_encoded)"
   ]
  },
  {
   "cell_type": "markdown",
   "metadata": {},
   "source": [
    "The first row is the original image and the second row is the restored image."
   ]
  },
  {
   "cell_type": "code",
   "execution_count": 15,
   "metadata": {},
   "outputs": [
    {
     "data": {
      "image/png": "[encoded data removed]",
      "text/plain": [
       "<matplotlib.figure.Figure at 0x7f9538617240>"
      ]
     },
     "metadata": {},
     "output_type": "display_data"
    }
   ],
   "source": [
    "def show_images(before_images, after_images):\n",
    "    plt.figure(figsize=(10, 2))\n",
    "    for i in range(10):\n",
    "        # before\n",
    "        plt.subplot(2, 10, i+1)\n",
    "        plt.imshow(before_images[i].reshape(28, 28), cmap='gray')\n",
    "        plt.xticks([])\n",
    "        plt.yticks([])\n",
    "        # after\n",
    "        plt.subplot(2, 10, 10+i+1)\n",
    "        plt.imshow(after_images[i].reshape(28, 28), cmap='gray')\n",
    "        plt.xticks([])\n",
    "        plt.yticks([])\n",
    "    plt.show()\n",
    "    \n",
    "show_images(X_test, X_test_decoded)"
   ]
  },
  {
   "cell_type": "markdown",
   "metadata": {},
   "source": [
    "As can be seen, the decoded images do not completely restore the original image."
   ]
  },
  {
   "cell_type": "markdown",
   "metadata": {},
   "source": [
    "## Convolutional Autoencoder\n",
    "\n",
    "We could add more layers to make the network deeper to improve the performance.  But since we are working on images, we could make use of convolutional neural network to improve the quality of compression and decompression."
   ]
  },
  {
   "cell_type": "code",
   "execution_count": 16,
   "metadata": {
    "collapsed": true
   },
   "outputs": [],
   "source": [
    "def make_convolutional_autoencoder():\n",
    "    # encoding\n",
    "    inputs = Input(shape=(28, 28, 1))\n",
    "    x = Conv2D(16, 3, activation='relu', padding='same')(inputs)\n",
    "    x = MaxPooling2D(padding='same')(x)\n",
    "    x = Conv2D( 8, 3, activation='relu', padding='same')(x)\n",
    "    x = MaxPooling2D(padding='same')(x)\n",
    "    x = Conv2D( 8, 3, activation='relu', padding='same')(x)\n",
    "    encoded = MaxPooling2D(padding='same')(x)    \n",
    "    \n",
    "    # decoding\n",
    "    x = Conv2D( 8, 3, activation='relu', padding='same')(encoded)\n",
    "    x = UpSampling2D()(x)\n",
    "    x = Conv2D( 8, 3, activation='relu', padding='same')(x)\n",
    "    x = UpSampling2D()(x)\n",
    "    x = Conv2D(16, 3, activation='relu')(x) # <= padding='valid'!\n",
    "    x = UpSampling2D()(x)\n",
    "    decoded = Conv2D(1, 3, activation='sigmoid', padding='same')(x)    \n",
    "    \n",
    "    # autoencoder\n",
    "    autoencoder = Model(inputs, decoded)\n",
    "    autoencoder.compile(optimizer='adam', loss='binary_crossentropy')\n",
    "    return autoencoder"
   ]
  },
  {
   "cell_type": "markdown",
   "metadata": {},
   "source": [
    "Let's make a convolutional autoencoder and examine the layers."
   ]
  },
  {
   "cell_type": "code",
   "execution_count": 17,
   "metadata": {},
   "outputs": [
    {
     "name": "stdout",
     "output_type": "stream",
     "text": [
      "_________________________________________________________________\n",
      "Layer (type)                 Output Shape              Param #   \n",
      "=================================================================\n",
      "input_3 (InputLayer)         (None, 28, 28, 1)         0         \n",
      "_________________________________________________________________\n",
      "conv2d_1 (Conv2D)            (None, 28, 28, 16)        160       \n",
      "_________________________________________________________________\n",
      "max_pooling2d_1 (MaxPooling2 (None, 14, 14, 16)        0         \n",
      "_________________________________________________________________\n",
      "conv2d_2 (Conv2D)            (None, 14, 14, 8)         1160      \n",
      "_________________________________________________________________\n",
      "max_pooling2d_2 (MaxPooling2 (None, 7, 7, 8)           0         \n",
      "_________________________________________________________________\n",
      "conv2d_3 (Conv2D)            (None, 7, 7, 8)           584       \n",
      "_________________________________________________________________\n",
      "max_pooling2d_3 (MaxPooling2 (None, 4, 4, 8)           0         \n",
      "_________________________________________________________________\n",
      "conv2d_4 (Conv2D)            (None, 4, 4, 8)           584       \n",
      "_________________________________________________________________\n",
      "up_sampling2d_1 (UpSampling2 (None, 8, 8, 8)           0         \n",
      "_________________________________________________________________\n",
      "conv2d_5 (Conv2D)            (None, 8, 8, 8)           584       \n",
      "_________________________________________________________________\n",
      "up_sampling2d_2 (UpSampling2 (None, 16, 16, 8)         0         \n",
      "_________________________________________________________________\n",
      "conv2d_6 (Conv2D)            (None, 14, 14, 16)        1168      \n",
      "_________________________________________________________________\n",
      "up_sampling2d_3 (UpSampling2 (None, 28, 28, 16)        0         \n",
      "_________________________________________________________________\n",
      "conv2d_7 (Conv2D)            (None, 28, 28, 1)         145       \n",
      "=================================================================\n",
      "Total params: 4,385\n",
      "Trainable params: 4,385\n",
      "Non-trainable params: 0\n",
      "_________________________________________________________________\n"
     ]
    }
   ],
   "source": [
    "autoencoder = make_convolutional_autoencoder()\n",
    "\n",
    "autoencoder.summary()"
   ]
  },
  {
   "cell_type": "markdown",
   "metadata": {},
   "source": [
    "The `UpSampling2D` will repeats the rows and columns twice.  Effectively reversing the effect of the `MaxPooling2D`.\n",
    "\n",
    "If you look closely, the `UpSampling2D` is doubling the height and width: (4,4) => (8,8) => (16,16).  But the `conv2d_13 (Conv2D)` uses the `padding='valid'` which is the default and reduces the height and width = (14,14) so that we can up sample again to (28,28).  This is a minor details but important in practice."
   ]
  },
  {
   "cell_type": "markdown",
   "metadata": {},
   "source": [
    "Let's reshape the image data to the format the convolutional autoencoder expects for training."
   ]
  },
  {
   "cell_type": "code",
   "execution_count": 18,
   "metadata": {},
   "outputs": [
    {
     "name": "stdout",
     "output_type": "stream",
     "text": [
      "Train on 59500 samples, validate on 500 samples\n",
      "Epoch 1/50\n",
      "59500/59500 [==============================] - 3s - loss: 0.2166 - val_loss: 0.1483\n",
      "Epoch 2/50\n",
      "59500/59500 [==============================] - 2s - loss: 0.1375 - val_loss: 0.1307\n",
      "Epoch 3/50\n",
      "59500/59500 [==============================] - 2s - loss: 0.1261 - val_loss: 0.1227\n",
      "Epoch 4/50\n",
      "59500/59500 [==============================] - 2s - loss: 0.1198 - val_loss: 0.1176\n",
      "Epoch 5/50\n",
      "59500/59500 [==============================] - 2s - loss: 0.1157 - val_loss: 0.1140\n",
      "Epoch 6/50\n",
      "59500/59500 [==============================] - 2s - loss: 0.1126 - val_loss: 0.1116\n",
      "Epoch 7/50\n",
      "59500/59500 [==============================] - 2s - loss: 0.1105 - val_loss: 0.1103\n",
      "Epoch 8/50\n",
      "59500/59500 [==============================] - 2s - loss: 0.1088 - val_loss: 0.1083\n",
      "Epoch 9/50\n",
      "59500/59500 [==============================] - 2s - loss: 0.1075 - val_loss: 0.1074\n",
      "Epoch 10/50\n",
      "59500/59500 [==============================] - 3s - loss: 0.1064 - val_loss: 0.1064\n",
      "Epoch 11/50\n",
      "59500/59500 [==============================] - 2s - loss: 0.1054 - val_loss: 0.1057\n",
      "Epoch 12/50\n",
      "59500/59500 [==============================] - 2s - loss: 0.1046 - val_loss: 0.1051\n",
      "Epoch 13/50\n",
      "59500/59500 [==============================] - 2s - loss: 0.1038 - val_loss: 0.1039\n",
      "Epoch 14/50\n",
      "59500/59500 [==============================] - 2s - loss: 0.1031 - val_loss: 0.1034\n",
      "Epoch 15/50\n",
      "59500/59500 [==============================] - 3s - loss: 0.1024 - val_loss: 0.1028\n",
      "Epoch 16/50\n",
      "59500/59500 [==============================] - 3s - loss: 0.1019 - val_loss: 0.1030\n",
      "Epoch 17/50\n",
      "59500/59500 [==============================] - 2s - loss: 0.1013 - val_loss: 0.1016\n",
      "Epoch 18/50\n",
      "59500/59500 [==============================] - 2s - loss: 0.1008 - val_loss: 0.1011\n",
      "Epoch 19/50\n",
      "59500/59500 [==============================] - 3s - loss: 0.1003 - val_loss: 0.1006\n",
      "Epoch 20/50\n",
      "59500/59500 [==============================] - 3s - loss: 0.0999 - val_loss: 0.1003\n",
      "Epoch 21/50\n",
      "59500/59500 [==============================] - 2s - loss: 0.0994 - val_loss: 0.1001\n",
      "Epoch 22/50\n",
      "59500/59500 [==============================] - 2s - loss: 0.0991 - val_loss: 0.0991\n",
      "Epoch 23/50\n",
      "59500/59500 [==============================] - 3s - loss: 0.0987 - val_loss: 0.0989\n",
      "Epoch 24/50\n",
      "59500/59500 [==============================] - 3s - loss: 0.0984 - val_loss: 0.0987\n",
      "Epoch 25/50\n",
      "59500/59500 [==============================] - 2s - loss: 0.0981 - val_loss: 0.0981\n",
      "Epoch 26/50\n",
      "59500/59500 [==============================] - 2s - loss: 0.0978 - val_loss: 0.0977\n",
      "Epoch 27/50\n",
      "59500/59500 [==============================] - 3s - loss: 0.0976 - val_loss: 0.0976\n",
      "Epoch 28/50\n",
      "59500/59500 [==============================] - 3s - loss: 0.0972 - val_loss: 0.0975\n",
      "Epoch 29/50\n",
      "59500/59500 [==============================] - 2s - loss: 0.0970 - val_loss: 0.0970\n",
      "Epoch 30/50\n",
      "59500/59500 [==============================] - 2s - loss: 0.0968 - val_loss: 0.0969\n",
      "Epoch 31/50\n",
      "59500/59500 [==============================] - 3s - loss: 0.0966 - val_loss: 0.0965\n",
      "Epoch 32/50\n",
      "59500/59500 [==============================] - 3s - loss: 0.0964 - val_loss: 0.0966\n",
      "Epoch 33/50\n",
      "59500/59500 [==============================] - 2s - loss: 0.0962 - val_loss: 0.0961\n",
      "Epoch 34/50\n",
      "59500/59500 [==============================] - 2s - loss: 0.0960 - val_loss: 0.0964\n",
      "Epoch 35/50\n",
      "59500/59500 [==============================] - 3s - loss: 0.0958 - val_loss: 0.0962\n",
      "Epoch 36/50\n",
      "59500/59500 [==============================] - 3s - loss: 0.0957 - val_loss: 0.0957\n",
      "Epoch 37/50\n",
      "59500/59500 [==============================] - 3s - loss: 0.0956 - val_loss: 0.0963\n",
      "Epoch 38/50\n",
      "59500/59500 [==============================] - 3s - loss: 0.0954 - val_loss: 0.0955\n",
      "Epoch 39/50\n",
      "59500/59500 [==============================] - 3s - loss: 0.0953 - val_loss: 0.0953\n",
      "Epoch 40/50\n",
      "59500/59500 [==============================] - 3s - loss: 0.0951 - val_loss: 0.0955\n",
      "Epoch 41/50\n",
      "59500/59500 [==============================] - 3s - loss: 0.0950 - val_loss: 0.0949\n",
      "Epoch 42/50\n",
      "59500/59500 [==============================] - 3s - loss: 0.0949 - val_loss: 0.0951\n",
      "Epoch 43/50\n",
      "59500/59500 [==============================] - 3s - loss: 0.0948 - val_loss: 0.0950\n",
      "Epoch 44/50\n",
      "59500/59500 [==============================] - 3s - loss: 0.0946 - val_loss: 0.0947\n",
      "Epoch 45/50\n",
      "59500/59500 [==============================] - 3s - loss: 0.0945 - val_loss: 0.0947\n",
      "Epoch 46/50\n",
      "59500/59500 [==============================] - 3s - loss: 0.0945 - val_loss: 0.0945\n",
      "Epoch 47/50\n",
      "59500/59500 [==============================] - 3s - loss: 0.0944 - val_loss: 0.0944\n",
      "Epoch 48/50\n",
      "59500/59500 [==============================] - 3s - loss: 0.0942 - val_loss: 0.0942\n",
      "Epoch 49/50\n",
      "59500/59500 [==============================] - 3s - loss: 0.0942 - val_loss: 0.0943\n",
      "Epoch 50/50\n",
      "59500/59500 [==============================] - 2s - loss: 0.0940 - val_loss: 0.0940\n"
     ]
    },
    {
     "data": {
      "text/plain": [
       "<keras.callbacks.History at 0x7f951c664d68>"
      ]
     },
     "execution_count": 18,
     "metadata": {},
     "output_type": "execute_result"
    }
   ],
   "source": [
    "X_train = X_train.reshape(-1, 28, 28, 1)\n",
    "X_valid = X_valid.reshape(-1, 28, 28, 1)\n",
    "X_test  = X_test.reshape(-1, 28, 28, 1)\n",
    "\n",
    "autoencoder.fit(X_train, X_train, epochs=50, batch_size=128, validation_data=(X_valid, X_valid))"
   ]
  },
  {
   "cell_type": "markdown",
   "metadata": {},
   "source": [
    "We just want to see the quality of compression/decompression.  So, let's just feed forward test images to see how the restored digits look like."
   ]
  },
  {
   "cell_type": "code",
   "execution_count": 19,
   "metadata": {},
   "outputs": [
    {
     "data": {
      "image/png": "[encoded data removed]",
      "text/plain": [
       "<matplotlib.figure.Figure at 0x7f95340a1ac8>"
      ]
     },
     "metadata": {},
     "output_type": "display_data"
    }
   ],
   "source": [
    "X_test_decoded = autoencoder.predict(X_test)\n",
    "\n",
    "show_images(X_test, X_test_decoded)"
   ]
  },
  {
   "cell_type": "markdown",
   "metadata": {},
   "source": [
    "Although not perfect, the restored digits look better than the ones restored by the simple autoencoder."
   ]
  },
  {
   "cell_type": "markdown",
   "metadata": {},
   "source": [
    "## Noise Reduction by Autoencoder\n",
    "\n",
    "Let's try noise reduction effect using the convolutional autoencoder.  We add random noises to the MINST image data and use them as input for training.  "
   ]
  },
  {
   "cell_type": "code",
   "execution_count": 20,
   "metadata": {},
   "outputs": [],
   "source": [
    "def add_noise(x, noise_factor=0.2):\n",
    "    x = x + np.random.randn(*x.shape) * noise_factor\n",
    "    x = x.clip(0., 1.)\n",
    "    return x\n",
    "    \n",
    "X_train_noisy = add_noise(X_train)\n",
    "X_valid_noisy = add_noise(X_valid)\n",
    "X_test_noisy  = add_noise(X_test)"
   ]
  },
  {
   "cell_type": "markdown",
   "metadata": {},
   "source": [
    "We train a new autoencoder with the noisy data as input and the original data as expected output."
   ]
  },
  {
   "cell_type": "code",
   "execution_count": 21,
   "metadata": {},
   "outputs": [
    {
     "name": "stdout",
     "output_type": "stream",
     "text": [
      "Train on 59500 samples, validate on 500 samples\n",
      "Epoch 1/50\n",
      "59500/59500 [==============================] - 4s - loss: 0.2438 - val_loss: 0.1688\n",
      "Epoch 2/50\n",
      "59500/59500 [==============================] - 3s - loss: 0.1528 - val_loss: 0.1458\n",
      "Epoch 3/50\n",
      "59500/59500 [==============================] - 3s - loss: 0.1394 - val_loss: 0.1373\n",
      "Epoch 4/50\n",
      "59500/59500 [==============================] - 3s - loss: 0.1334 - val_loss: 0.1336\n",
      "Epoch 5/50\n",
      "59500/59500 [==============================] - 3s - loss: 0.1285 - val_loss: 0.1273\n",
      "Epoch 6/50\n",
      "59500/59500 [==============================] - 3s - loss: 0.1242 - val_loss: 0.1232\n",
      "Epoch 7/50\n",
      "59500/59500 [==============================] - 3s - loss: 0.1207 - val_loss: 0.1200\n",
      "Epoch 8/50\n",
      "59500/59500 [==============================] - 3s - loss: 0.1180 - val_loss: 0.1182\n",
      "Epoch 9/50\n",
      "59500/59500 [==============================] - 3s - loss: 0.1159 - val_loss: 0.1157\n",
      "Epoch 10/50\n",
      "59500/59500 [==============================] - 3s - loss: 0.1143 - val_loss: 0.1145\n",
      "Epoch 11/50\n",
      "59500/59500 [==============================] - 3s - loss: 0.1130 - val_loss: 0.1132\n",
      "Epoch 12/50\n",
      "59500/59500 [==============================] - 3s - loss: 0.1119 - val_loss: 0.1122\n",
      "Epoch 13/50\n",
      "59500/59500 [==============================] - 3s - loss: 0.1109 - val_loss: 0.1111\n",
      "Epoch 14/50\n",
      "59500/59500 [==============================] - 3s - loss: 0.1102 - val_loss: 0.1106\n",
      "Epoch 15/50\n",
      "59500/59500 [==============================] - 3s - loss: 0.1095 - val_loss: 0.1099\n",
      "Epoch 16/50\n",
      "59500/59500 [==============================] - 3s - loss: 0.1088 - val_loss: 0.1091\n",
      "Epoch 17/50\n",
      "59500/59500 [==============================] - 3s - loss: 0.1082 - val_loss: 0.1087\n",
      "Epoch 18/50\n",
      "59500/59500 [==============================] - 3s - loss: 0.1076 - val_loss: 0.1079\n",
      "Epoch 19/50\n",
      "59500/59500 [==============================] - 3s - loss: 0.1071 - val_loss: 0.1074\n",
      "Epoch 20/50\n",
      "59500/59500 [==============================] - 3s - loss: 0.1066 - val_loss: 0.1069\n",
      "Epoch 21/50\n",
      "59500/59500 [==============================] - 3s - loss: 0.1061 - val_loss: 0.1065\n",
      "Epoch 22/50\n",
      "59500/59500 [==============================] - 3s - loss: 0.1056 - val_loss: 0.1068\n",
      "Epoch 23/50\n",
      "59500/59500 [==============================] - 3s - loss: 0.1053 - val_loss: 0.1054\n",
      "Epoch 24/50\n",
      "59500/59500 [==============================] - 3s - loss: 0.1048 - val_loss: 0.1053\n",
      "Epoch 25/50\n",
      "59500/59500 [==============================] - 3s - loss: 0.1045 - val_loss: 0.1051\n",
      "Epoch 26/50\n",
      "59500/59500 [==============================] - 3s - loss: 0.1041 - val_loss: 0.1048\n",
      "Epoch 27/50\n",
      "59500/59500 [==============================] - 3s - loss: 0.1038 - val_loss: 0.1047\n",
      "Epoch 28/50\n",
      "59500/59500 [==============================] - 3s - loss: 0.1035 - val_loss: 0.1045\n",
      "Epoch 29/50\n",
      "59500/59500 [==============================] - 3s - loss: 0.1033 - val_loss: 0.1037\n",
      "Epoch 30/50\n",
      "59500/59500 [==============================] - 3s - loss: 0.1029 - val_loss: 0.1038\n",
      "Epoch 31/50\n",
      "59500/59500 [==============================] - 3s - loss: 0.1026 - val_loss: 0.1030\n",
      "Epoch 32/50\n",
      "59500/59500 [==============================] - 3s - loss: 0.1023 - val_loss: 0.1028\n",
      "Epoch 33/50\n",
      "59500/59500 [==============================] - 3s - loss: 0.1022 - val_loss: 0.1031\n",
      "Epoch 34/50\n",
      "59500/59500 [==============================] - 3s - loss: 0.1018 - val_loss: 0.1021\n",
      "Epoch 35/50\n",
      "59500/59500 [==============================] - 3s - loss: 0.1016 - val_loss: 0.1024\n",
      "Epoch 36/50\n",
      "59500/59500 [==============================] - 3s - loss: 0.1013 - val_loss: 0.1018\n",
      "Epoch 37/50\n",
      "59500/59500 [==============================] - 3s - loss: 0.1011 - val_loss: 0.1016\n",
      "Epoch 38/50\n",
      "59500/59500 [==============================] - 3s - loss: 0.1009 - val_loss: 0.1011\n",
      "Epoch 39/50\n",
      "59500/59500 [==============================] - 3s - loss: 0.1007 - val_loss: 0.1013\n",
      "Epoch 40/50\n",
      "59500/59500 [==============================] - 3s - loss: 0.1005 - val_loss: 0.1010\n",
      "Epoch 41/50\n",
      "59500/59500 [==============================] - 3s - loss: 0.1003 - val_loss: 0.1006\n",
      "Epoch 42/50\n",
      "59500/59500 [==============================] - 3s - loss: 0.1000 - val_loss: 0.1004\n",
      "Epoch 43/50\n",
      "59500/59500 [==============================] - 3s - loss: 0.0999 - val_loss: 0.1003\n",
      "Epoch 44/50\n",
      "59500/59500 [==============================] - 3s - loss: 0.0997 - val_loss: 0.1003\n",
      "Epoch 45/50\n",
      "59500/59500 [==============================] - 3s - loss: 0.0994 - val_loss: 0.0997\n",
      "Epoch 46/50\n",
      "59500/59500 [==============================] - 3s - loss: 0.0993 - val_loss: 0.0996\n",
      "Epoch 47/50\n",
      "59500/59500 [==============================] - 3s - loss: 0.0991 - val_loss: 0.0995\n",
      "Epoch 48/50\n",
      "59500/59500 [==============================] - 3s - loss: 0.0989 - val_loss: 0.1001\n",
      "Epoch 49/50\n",
      "59500/59500 [==============================] - 3s - loss: 0.0988 - val_loss: 0.0989\n",
      "Epoch 50/50\n",
      "59500/59500 [==============================] - 3s - loss: 0.0986 - val_loss: 0.0992\n"
     ]
    },
    {
     "data": {
      "text/plain": [
       "<keras.callbacks.History at 0x7f951c4c57b8>"
      ]
     },
     "execution_count": 21,
     "metadata": {},
     "output_type": "execute_result"
    }
   ],
   "source": [
    "autoencoder = make_convolutional_autoencoder()\n",
    "autoencoder.fit(X_train_noisy, X_train, epochs=50, batch_size=128, validation_data=(X_valid_noisy, X_valid))"
   ]
  },
  {
   "cell_type": "markdown",
   "metadata": {},
   "source": [
    "We pass the noisy images to the autoencoder to see the restored images."
   ]
  },
  {
   "cell_type": "code",
   "execution_count": 22,
   "metadata": {},
   "outputs": [
    {
     "data": {
      "image/png": "[encoded data removed]",
      "text/plain": [
       "<matplotlib.figure.Figure at 0x7f9535036d68>"
      ]
     },
     "metadata": {},
     "output_type": "display_data"
    }
   ],
   "source": [
    "X_test_decoded = autoencoder.predict(X_test_noisy)\n",
    "\n",
    "show_images(X_test_noisy, X_test_decoded)"
   ]
  },
  {
   "cell_type": "markdown",
   "metadata": {},
   "source": [
    "Not bad, right?"
   ]
  },
  {
   "cell_type": "markdown",
   "metadata": {},
   "source": [
    "## References\n",
    "\n",
    "<a id=\"ref1\"></a>\n",
    "### [1] Building Autoencoders in Keras\n",
    " \n",
    "Francois Chollet\n",
    "  \n",
    "https://blog.keras.io/building-autoencoders-in-keras.html\n",
    " \n",
    "<a id=\"ref2\"></a> \n",
    "### [2] Autoencoder Example in Tensorflow\n",
    " \n",
    "Udacity\n",
    " \n",
    "https://github.com/udacity/deep-learning/tree/master/autoencoder\n",
    " \n",
    "<a id=\"ref3\"></a>\n",
    "### [3] MNIST dataset\n",
    " \n",
    "Yann LeCun\n",
    " \n",
    "http://yann.lecun.com/exdb/mnist/"
   ]
  }
 ],
 "metadata": {
  "kernelspec": {
   "display_name": "Python 3",
   "language": "python",
   "name": "python3"
  },
  "language_info": {
   "codemirror_mode": {
    "name": "ipython",
    "version": 3
   },
   "file_extension": ".py",
   "mimetype": "text/x-python",
   "name": "python",
   "nbconvert_exporter": "python",
   "pygments_lexer": "ipython3",
   "version": "3.6.2"
  }
 },
 "nbformat": 4,
 "nbformat_minor": 2
}
